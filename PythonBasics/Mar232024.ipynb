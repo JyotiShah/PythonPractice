{
 "cells": [
  {
   "cell_type": "code",
   "execution_count": 1,
   "id": "c518c959-0090-4be1-8c88-39b780459a1c",
   "metadata": {},
   "outputs": [],
   "source": [
    "a= \"123\""
   ]
  },
  {
   "cell_type": "code",
   "execution_count": 2,
   "id": "b7ba3b58-d6c2-49c9-bc91-727ee4aecf9d",
   "metadata": {},
   "outputs": [],
   "source": [
    "b= 123"
   ]
  },
  {
   "cell_type": "code",
   "execution_count": 3,
   "id": "f4451f21-4edd-4261-9545-982a330b4747",
   "metadata": {},
   "outputs": [
    {
     "name": "stdout",
     "output_type": "stream",
     "text": [
      "False\n"
     ]
    }
   ],
   "source": [
    "print(a==b)"
   ]
  },
  {
   "cell_type": "code",
   "execution_count": 4,
   "id": "aa892cff-3d22-44e1-a833-dfa83769d42d",
   "metadata": {},
   "outputs": [
    {
     "data": {
      "text/plain": [
       "'Python'"
      ]
     },
     "execution_count": 4,
     "metadata": {},
     "output_type": "execute_result"
    }
   ],
   "source": [
    "#String\n",
    "str1 = \"Python\"\n",
    "str1"
   ]
  },
  {
   "cell_type": "code",
   "execution_count": 5,
   "id": "46380d7e-6743-40b6-b4fd-26952cecc3fc",
   "metadata": {},
   "outputs": [
    {
     "data": {
      "text/plain": [
       "\"Mayank's Code\""
      ]
     },
     "execution_count": 5,
     "metadata": {},
     "output_type": "execute_result"
    }
   ],
   "source": [
    "str2 = \"Mayank's Code\"\n",
    "str2"
   ]
  },
  {
   "cell_type": "code",
   "execution_count": 6,
   "id": "c49de4f1-f4b5-4bf6-a223-7d453d2df48a",
   "metadata": {},
   "outputs": [
    {
     "data": {
      "text/plain": [
       "'Let us \"Code\"'"
      ]
     },
     "execution_count": 6,
     "metadata": {},
     "output_type": "execute_result"
    }
   ],
   "source": [
    "str3 = \"Let us \\\"Code\\\"\"\n",
    "str3"
   ]
  },
  {
   "cell_type": "code",
   "execution_count": 7,
   "id": "e1ec4450-fef7-4b19-a532-a94d4131e9bc",
   "metadata": {},
   "outputs": [
    {
     "data": {
      "text/plain": [
       "'Let\\'s \"Code\"'"
      ]
     },
     "execution_count": 7,
     "metadata": {},
     "output_type": "execute_result"
    }
   ],
   "source": [
    "str4 = \"Let's \\\"Code\\\"\"\n",
    "str4"
   ]
  },
  {
   "cell_type": "code",
   "execution_count": null,
   "id": "e51c7f1e-17a8-4978-925b-3f6582c86e03",
   "metadata": {},
   "outputs": [],
   "source": []
  }
 ],
 "metadata": {
  "kernelspec": {
   "display_name": "Python 3 (ipykernel)",
   "language": "python",
   "name": "python3"
  },
  "language_info": {
   "codemirror_mode": {
    "name": "ipython",
    "version": 3
   },
   "file_extension": ".py",
   "mimetype": "text/x-python",
   "name": "python",
   "nbconvert_exporter": "python",
   "pygments_lexer": "ipython3",
   "version": "3.12.2"
  }
 },
 "nbformat": 4,
 "nbformat_minor": 5
}
